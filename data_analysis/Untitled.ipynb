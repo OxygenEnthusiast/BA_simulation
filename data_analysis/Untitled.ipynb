{
 "cells": [
  {
   "cell_type": "markdown",
   "id": "9a78d56a-30ef-4d4c-9c07-dd9184098fe6",
   "metadata": {},
   "source": [
    "# "
   ]
  },
  {
   "cell_type": "code",
   "execution_count": 3,
   "id": "511be5a0-289f-4a2b-a277-208df1a5c027",
   "metadata": {},
   "outputs": [],
   "source": [
    "import pickle\n",
    "import os"
   ]
  },
  {
   "cell_type": "code",
   "execution_count": 4,
   "id": "dec827fd-9f92-46b7-8048-64d047e013a2",
   "metadata": {},
   "outputs": [],
   "source": [
    "def read_array_from_file(filename):\n",
    "    with open(filename, 'rb') as file:\n",
    "        array = pickle.load(file)\n",
    "    return array\n"
   ]
  },
  {
   "cell_type": "code",
   "execution_count": null,
   "id": "b7355a23-4500-4f79-8440-1baa8285293d",
   "metadata": {},
   "outputs": [],
   "source": [
    "for file in os.listdir(\"data\"):\n",
    "    "
   ]
  },
  {
   "cell_type": "code",
   "execution_count": null,
   "id": "d8698d9a-cd2c-422a-9917-e6b96b24c914",
   "metadata": {},
   "outputs": [],
   "source": []
  }
 ],
 "metadata": {
  "kernelspec": {
   "display_name": "Python 3 (ipykernel)",
   "language": "python",
   "name": "python3"
  },
  "language_info": {
   "codemirror_mode": {
    "name": "ipython",
    "version": 3
   },
   "file_extension": ".py",
   "mimetype": "text/x-python",
   "name": "python",
   "nbconvert_exporter": "python",
   "pygments_lexer": "ipython3",
   "version": "3.11.3"
  }
 },
 "nbformat": 4,
 "nbformat_minor": 5
}
