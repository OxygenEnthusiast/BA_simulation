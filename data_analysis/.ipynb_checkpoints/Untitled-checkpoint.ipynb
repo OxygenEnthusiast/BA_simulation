{
 "cells": [
  {
   "cell_type": "code",
   "execution_count": 1,
   "id": "511be5a0-289f-4a2b-a277-208df1a5c027",
   "metadata": {},
   "outputs": [],
   "source": [
    "import pickle"
   ]
  },
  {
   "cell_type": "code",
   "execution_count": null,
   "id": "dec827fd-9f92-46b7-8048-64d047e013a2",
   "metadata": {},
   "outputs": [],
   "source": [
    "def read_array_from_file(filename):\n",
    "    with open(filename, 'rb') as file:\n",
    "        array = pickle.load(file)\n",
    "    return array\n"
   ]
  }
 ],
 "metadata": {
  "kernelspec": {
   "display_name": "Python 3 (ipykernel)",
   "language": "python",
   "name": "python3"
  },
  "language_info": {
   "codemirror_mode": {
    "name": "ipython",
    "version": 3
   },
   "file_extension": ".py",
   "mimetype": "text/x-python",
   "name": "python",
   "nbconvert_exporter": "python",
   "pygments_lexer": "ipython3",
   "version": "3.11.3"
  }
 },
 "nbformat": 4,
 "nbformat_minor": 5
}
